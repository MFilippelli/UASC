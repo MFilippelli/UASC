{
 "cells": [
  {
   "cell_type": "markdown",
   "metadata": {},
   "source": [
    "This notebook carries out Naive Bayes classfication on the two datasets created, one where the model is trained and validated on data from Paris but tested on data from London while another where all the data is mixed and the model is trained, validated and tested on the mixed data."
   ]
  },
  {
   "cell_type": "code",
   "execution_count": 1,
   "metadata": {
    "collapsed": false
   },
   "outputs": [
    {
     "name": "stdout",
     "output_type": "stream",
     "text": [
      "Populating the interactive namespace from numpy and matplotlib\n"
     ]
    }
   ],
   "source": [
    "import numpy as np\n",
    "import pandas as pd\n",
    "from scipy import stats\n",
    "import statsmodels.formula.api as smf\n",
    "from sklearn.naive_bayes import GaussianNB"
   ]
  },
  {
   "cell_type": "markdown",
   "metadata": {},
   "source": [
    "## DATASET #1 (Separate Cities)##"
   ]
  },
  {
   "cell_type": "markdown",
   "metadata": {},
   "source": [
    "**TRAINING DATA**"
   ]
  },
  {
   "cell_type": "code",
   "execution_count": 2,
   "metadata": {
    "collapsed": false,
    "scrolled": true
   },
   "outputs": [
    {
     "data": {
      "text/html": [
       "<div>\n",
       "<table border=\"1\" class=\"dataframe\">\n",
       "  <thead>\n",
       "    <tr style=\"text-align: right;\">\n",
       "      <th></th>\n",
       "      <th>mean0</th>\n",
       "      <th>mean1</th>\n",
       "      <th>mean2</th>\n",
       "      <th>mean3</th>\n",
       "      <th>mean4</th>\n",
       "      <th>mean5</th>\n",
       "      <th>mean6</th>\n",
       "      <th>mean7</th>\n",
       "      <th>mean8</th>\n",
       "      <th>mean9</th>\n",
       "      <th>...</th>\n",
       "      <th>var_diff11</th>\n",
       "      <th>var_diff12</th>\n",
       "      <th>var_diff13</th>\n",
       "      <th>var_diff14</th>\n",
       "      <th>var_diff15</th>\n",
       "      <th>var_diff16</th>\n",
       "      <th>var_diff17</th>\n",
       "      <th>var_diff18</th>\n",
       "      <th>var_diff19</th>\n",
       "      <th>scenes</th>\n",
       "    </tr>\n",
       "  </thead>\n",
       "  <tbody>\n",
       "    <tr>\n",
       "      <th>0</th>\n",
       "      <td>0.575796</td>\n",
       "      <td>0.717401</td>\n",
       "      <td>0.539698</td>\n",
       "      <td>-1.062370</td>\n",
       "      <td>0.191049</td>\n",
       "      <td>-1.723536</td>\n",
       "      <td>-1.194319</td>\n",
       "      <td>0.053656</td>\n",
       "      <td>-0.209370</td>\n",
       "      <td>-0.200844</td>\n",
       "      <td>...</td>\n",
       "      <td>-0.655437</td>\n",
       "      <td>-0.839057</td>\n",
       "      <td>-0.300258</td>\n",
       "      <td>-0.830228</td>\n",
       "      <td>-0.783522</td>\n",
       "      <td>-0.736217</td>\n",
       "      <td>-0.683096</td>\n",
       "      <td>-0.866754</td>\n",
       "      <td>-0.571898</td>\n",
       "      <td>tubestation</td>\n",
       "    </tr>\n",
       "    <tr>\n",
       "      <th>1</th>\n",
       "      <td>-0.626746</td>\n",
       "      <td>1.382491</td>\n",
       "      <td>0.447212</td>\n",
       "      <td>-1.766357</td>\n",
       "      <td>0.009479</td>\n",
       "      <td>2.536803</td>\n",
       "      <td>0.380988</td>\n",
       "      <td>1.120369</td>\n",
       "      <td>3.892846</td>\n",
       "      <td>4.094601</td>\n",
       "      <td>...</td>\n",
       "      <td>-0.906597</td>\n",
       "      <td>-0.561817</td>\n",
       "      <td>-0.990822</td>\n",
       "      <td>-0.910512</td>\n",
       "      <td>-0.770320</td>\n",
       "      <td>-1.019891</td>\n",
       "      <td>-1.231433</td>\n",
       "      <td>-0.857304</td>\n",
       "      <td>-0.888658</td>\n",
       "      <td>train-ter</td>\n",
       "    </tr>\n",
       "    <tr>\n",
       "      <th>2</th>\n",
       "      <td>-0.484043</td>\n",
       "      <td>0.597128</td>\n",
       "      <td>1.028187</td>\n",
       "      <td>-1.412017</td>\n",
       "      <td>1.534679</td>\n",
       "      <td>0.511047</td>\n",
       "      <td>1.286969</td>\n",
       "      <td>0.967864</td>\n",
       "      <td>-0.259907</td>\n",
       "      <td>0.790211</td>\n",
       "      <td>...</td>\n",
       "      <td>1.939481</td>\n",
       "      <td>2.260830</td>\n",
       "      <td>2.335424</td>\n",
       "      <td>2.172651</td>\n",
       "      <td>2.198847</td>\n",
       "      <td>2.151799</td>\n",
       "      <td>1.910007</td>\n",
       "      <td>1.362777</td>\n",
       "      <td>1.451639</td>\n",
       "      <td>bus</td>\n",
       "    </tr>\n",
       "    <tr>\n",
       "      <th>3</th>\n",
       "      <td>0.308431</td>\n",
       "      <td>-0.005826</td>\n",
       "      <td>-0.932353</td>\n",
       "      <td>0.143836</td>\n",
       "      <td>-0.619640</td>\n",
       "      <td>0.029328</td>\n",
       "      <td>-0.851747</td>\n",
       "      <td>-0.587147</td>\n",
       "      <td>0.131899</td>\n",
       "      <td>-0.957469</td>\n",
       "      <td>...</td>\n",
       "      <td>0.320351</td>\n",
       "      <td>0.050667</td>\n",
       "      <td>-0.057665</td>\n",
       "      <td>0.239617</td>\n",
       "      <td>0.260419</td>\n",
       "      <td>0.668990</td>\n",
       "      <td>0.290236</td>\n",
       "      <td>0.469636</td>\n",
       "      <td>0.520772</td>\n",
       "      <td>market</td>\n",
       "    </tr>\n",
       "    <tr>\n",
       "      <th>4</th>\n",
       "      <td>-1.846697</td>\n",
       "      <td>-1.260525</td>\n",
       "      <td>1.779260</td>\n",
       "      <td>0.112545</td>\n",
       "      <td>0.020945</td>\n",
       "      <td>0.628017</td>\n",
       "      <td>0.523070</td>\n",
       "      <td>1.356682</td>\n",
       "      <td>1.079687</td>\n",
       "      <td>0.648798</td>\n",
       "      <td>...</td>\n",
       "      <td>3.062474</td>\n",
       "      <td>0.293887</td>\n",
       "      <td>3.250679</td>\n",
       "      <td>-0.146490</td>\n",
       "      <td>2.591120</td>\n",
       "      <td>-0.208007</td>\n",
       "      <td>0.856651</td>\n",
       "      <td>0.327243</td>\n",
       "      <td>-0.246140</td>\n",
       "      <td>train-ter</td>\n",
       "    </tr>\n",
       "  </tbody>\n",
       "</table>\n",
       "<p>5 rows × 161 columns</p>\n",
       "</div>"
      ],
      "text/plain": [
       "      mean0     mean1     mean2     mean3     mean4     mean5     mean6  \\\n",
       "0  0.575796  0.717401  0.539698 -1.062370  0.191049 -1.723536 -1.194319   \n",
       "1 -0.626746  1.382491  0.447212 -1.766357  0.009479  2.536803  0.380988   \n",
       "2 -0.484043  0.597128  1.028187 -1.412017  1.534679  0.511047  1.286969   \n",
       "3  0.308431 -0.005826 -0.932353  0.143836 -0.619640  0.029328 -0.851747   \n",
       "4 -1.846697 -1.260525  1.779260  0.112545  0.020945  0.628017  0.523070   \n",
       "\n",
       "      mean7     mean8     mean9     ...       var_diff11  var_diff12  \\\n",
       "0  0.053656 -0.209370 -0.200844     ...        -0.655437   -0.839057   \n",
       "1  1.120369  3.892846  4.094601     ...        -0.906597   -0.561817   \n",
       "2  0.967864 -0.259907  0.790211     ...         1.939481    2.260830   \n",
       "3 -0.587147  0.131899 -0.957469     ...         0.320351    0.050667   \n",
       "4  1.356682  1.079687  0.648798     ...         3.062474    0.293887   \n",
       "\n",
       "   var_diff13  var_diff14  var_diff15  var_diff16  var_diff17  var_diff18  \\\n",
       "0   -0.300258   -0.830228   -0.783522   -0.736217   -0.683096   -0.866754   \n",
       "1   -0.990822   -0.910512   -0.770320   -1.019891   -1.231433   -0.857304   \n",
       "2    2.335424    2.172651    2.198847    2.151799    1.910007    1.362777   \n",
       "3   -0.057665    0.239617    0.260419    0.668990    0.290236    0.469636   \n",
       "4    3.250679   -0.146490    2.591120   -0.208007    0.856651    0.327243   \n",
       "\n",
       "   var_diff19       scenes  \n",
       "0   -0.571898  tubestation  \n",
       "1   -0.888658    train-ter  \n",
       "2    1.451639          bus  \n",
       "3    0.520772       market  \n",
       "4   -0.246140    train-ter  \n",
       "\n",
       "[5 rows x 161 columns]"
      ]
     },
     "execution_count": 2,
     "metadata": {},
     "output_type": "execute_result"
    }
   ],
   "source": [
    "# loading training dataset \n",
    "\n",
    "train = pd.read_csv('Data1/Data1_train.csv')\n",
    "\n",
    "train.columns\n",
    "train.head()\n",
    "#train.shape"
   ]
  },
  {
   "cell_type": "code",
   "execution_count": 3,
   "metadata": {
    "collapsed": false
   },
   "outputs": [
    {
     "data": {
      "text/html": [
       "<div>\n",
       "<table border=\"1\" class=\"dataframe\">\n",
       "  <thead>\n",
       "    <tr style=\"text-align: right;\">\n",
       "      <th></th>\n",
       "      <th>mean0</th>\n",
       "      <th>mean1</th>\n",
       "      <th>mean2</th>\n",
       "      <th>mean3</th>\n",
       "      <th>mean4</th>\n",
       "      <th>mean5</th>\n",
       "      <th>mean6</th>\n",
       "      <th>mean7</th>\n",
       "      <th>mean8</th>\n",
       "      <th>mean9</th>\n",
       "    </tr>\n",
       "  </thead>\n",
       "  <tbody>\n",
       "    <tr>\n",
       "      <th>0</th>\n",
       "      <td>0.575796</td>\n",
       "      <td>0.717401</td>\n",
       "      <td>0.539698</td>\n",
       "      <td>-1.062370</td>\n",
       "      <td>0.191049</td>\n",
       "      <td>-1.723536</td>\n",
       "      <td>-1.194319</td>\n",
       "      <td>0.053656</td>\n",
       "      <td>-0.209370</td>\n",
       "      <td>-0.200844</td>\n",
       "    </tr>\n",
       "    <tr>\n",
       "      <th>1</th>\n",
       "      <td>-0.626746</td>\n",
       "      <td>1.382491</td>\n",
       "      <td>0.447212</td>\n",
       "      <td>-1.766357</td>\n",
       "      <td>0.009479</td>\n",
       "      <td>2.536803</td>\n",
       "      <td>0.380988</td>\n",
       "      <td>1.120369</td>\n",
       "      <td>3.892846</td>\n",
       "      <td>4.094601</td>\n",
       "    </tr>\n",
       "    <tr>\n",
       "      <th>2</th>\n",
       "      <td>-0.484043</td>\n",
       "      <td>0.597128</td>\n",
       "      <td>1.028187</td>\n",
       "      <td>-1.412017</td>\n",
       "      <td>1.534679</td>\n",
       "      <td>0.511047</td>\n",
       "      <td>1.286969</td>\n",
       "      <td>0.967864</td>\n",
       "      <td>-0.259907</td>\n",
       "      <td>0.790211</td>\n",
       "    </tr>\n",
       "    <tr>\n",
       "      <th>3</th>\n",
       "      <td>0.308431</td>\n",
       "      <td>-0.005826</td>\n",
       "      <td>-0.932353</td>\n",
       "      <td>0.143836</td>\n",
       "      <td>-0.619640</td>\n",
       "      <td>0.029328</td>\n",
       "      <td>-0.851747</td>\n",
       "      <td>-0.587147</td>\n",
       "      <td>0.131899</td>\n",
       "      <td>-0.957469</td>\n",
       "    </tr>\n",
       "    <tr>\n",
       "      <th>4</th>\n",
       "      <td>-1.846697</td>\n",
       "      <td>-1.260525</td>\n",
       "      <td>1.779260</td>\n",
       "      <td>0.112545</td>\n",
       "      <td>0.020945</td>\n",
       "      <td>0.628017</td>\n",
       "      <td>0.523070</td>\n",
       "      <td>1.356682</td>\n",
       "      <td>1.079687</td>\n",
       "      <td>0.648798</td>\n",
       "    </tr>\n",
       "  </tbody>\n",
       "</table>\n",
       "</div>"
      ],
      "text/plain": [
       "      mean0     mean1     mean2     mean3     mean4     mean5     mean6  \\\n",
       "0  0.575796  0.717401  0.539698 -1.062370  0.191049 -1.723536 -1.194319   \n",
       "1 -0.626746  1.382491  0.447212 -1.766357  0.009479  2.536803  0.380988   \n",
       "2 -0.484043  0.597128  1.028187 -1.412017  1.534679  0.511047  1.286969   \n",
       "3  0.308431 -0.005826 -0.932353  0.143836 -0.619640  0.029328 -0.851747   \n",
       "4 -1.846697 -1.260525  1.779260  0.112545  0.020945  0.628017  0.523070   \n",
       "\n",
       "      mean7     mean8     mean9  \n",
       "0  0.053656 -0.209370 -0.200844  \n",
       "1  1.120369  3.892846  4.094601  \n",
       "2  0.967864 -0.259907  0.790211  \n",
       "3 -0.587147  0.131899 -0.957469  \n",
       "4  1.356682  1.079687  0.648798  "
      ]
     },
     "execution_count": 3,
     "metadata": {},
     "output_type": "execute_result"
    }
   ],
   "source": [
    "trainSet = train.iloc[:,:10]\n",
    "trainSet.head()"
   ]
  },
  {
   "cell_type": "code",
   "execution_count": 4,
   "metadata": {
    "collapsed": false
   },
   "outputs": [
    {
     "data": {
      "text/plain": [
       "0     tubestation\n",
       "1       train-ter\n",
       "2             bus\n",
       "3          market\n",
       "4       train-ter\n",
       "5     tubestation\n",
       "6       train-ter\n",
       "7             bus\n",
       "8      restaurant\n",
       "9      busystreet\n",
       "10     busystreet\n",
       "11     busystreet\n",
       "12    tubestation\n",
       "13     busystreet\n",
       "14    tubestation\n",
       "Name: scenes, dtype: object"
      ]
     },
     "execution_count": 4,
     "metadata": {},
     "output_type": "execute_result"
    }
   ],
   "source": [
    "# Getting the corresponding Y scenes(text)\n",
    "\n",
    "Y_labels = train.scenes\n",
    "Y_labels[:15]"
   ]
  },
  {
   "cell_type": "code",
   "execution_count": 5,
   "metadata": {
    "collapsed": true
   },
   "outputs": [],
   "source": [
    "#The function that assigns numbers to our categories\n",
    "\n",
    "def numericLabels(x):\n",
    "     return {\n",
    "        ourLabels[0]: 1,\n",
    "        ourLabels[1]: 2,\n",
    "        ourLabels[2]: 3,\n",
    "        ourLabels[3]: 4,\n",
    "        ourLabels[4]: 5,\n",
    "        ourLabels[5]: 5,\n",
    "        'unknown': 6,\n",
    "    }[x]"
   ]
  },
  {
   "cell_type": "code",
   "execution_count": 6,
   "metadata": {
    "collapsed": true
   },
   "outputs": [],
   "source": [
    "#The function that assigns numerical values to our labels\n",
    "ourLabels = ['tubestation', 'quietstreet', 'busystreet', 'restaurant', 'market', 'openairmarket']\n",
    "\n",
    "def manageLabels(labelsText, labelsNum):\n",
    "    i = 0;\n",
    "    while i < labelsText.size:\n",
    "        if labelsText[i] not in ourLabels:\n",
    "            labelsText.replace(labelsText[i],'unknown',inplace=True)\n",
    "        labelsNum[i] = numericLabels(labelsText[i])\n",
    "        i += 1\n"
   ]
  },
  {
   "cell_type": "code",
   "execution_count": 7,
   "metadata": {
    "collapsed": false
   },
   "outputs": [
    {
     "name": "stderr",
     "output_type": "stream",
     "text": [
      "C:\\Users\\Maria\\Anaconda2\\lib\\site-packages\\ipykernel\\__main__.py:9: SettingWithCopyWarning: \n",
      "A value is trying to be set on a copy of a slice from a DataFrame\n",
      "\n",
      "See the caveats in the documentation: http://pandas.pydata.org/pandas-docs/stable/indexing.html#indexing-view-versus-copy\n"
     ]
    },
    {
     "name": "stdout",
     "output_type": "stream",
     "text": [
      "0     1\n",
      "1     6\n",
      "2     6\n",
      "3     5\n",
      "4     6\n",
      "5     1\n",
      "6     6\n",
      "7     6\n",
      "8     4\n",
      "9     3\n",
      "10    3\n",
      "11    3\n",
      "12    1\n",
      "13    3\n",
      "14    1\n",
      "15    5\n",
      "16    3\n",
      "17    2\n",
      "18    1\n",
      "19    3\n",
      "Name: scenes, dtype: int64\n"
     ]
    }
   ],
   "source": [
    "#Creating the labels based on what we have defined\n",
    "\n",
    "Y_train = Y_labels\n",
    "\n",
    "#Calling the function\n",
    "manageLabels(Y_labels, Y_train)\n",
    "\n",
    "#converting type of new series to int\n",
    "Y_train = Y_train.astype('int64')    \n",
    "print Y_train[:20]"
   ]
  },
  {
   "cell_type": "markdown",
   "metadata": {},
   "source": [
    "**VALIDATION DATA**"
   ]
  },
  {
   "cell_type": "code",
   "execution_count": 8,
   "metadata": {
    "collapsed": false
   },
   "outputs": [
    {
     "data": {
      "text/html": [
       "<div>\n",
       "<table border=\"1\" class=\"dataframe\">\n",
       "  <thead>\n",
       "    <tr style=\"text-align: right;\">\n",
       "      <th></th>\n",
       "      <th>mean0</th>\n",
       "      <th>mean1</th>\n",
       "      <th>mean2</th>\n",
       "      <th>mean3</th>\n",
       "      <th>mean4</th>\n",
       "      <th>mean5</th>\n",
       "      <th>mean6</th>\n",
       "      <th>mean7</th>\n",
       "      <th>mean8</th>\n",
       "      <th>mean9</th>\n",
       "      <th>...</th>\n",
       "      <th>var_diff11</th>\n",
       "      <th>var_diff12</th>\n",
       "      <th>var_diff13</th>\n",
       "      <th>var_diff14</th>\n",
       "      <th>var_diff15</th>\n",
       "      <th>var_diff16</th>\n",
       "      <th>var_diff17</th>\n",
       "      <th>var_diff18</th>\n",
       "      <th>var_diff19</th>\n",
       "      <th>scenes</th>\n",
       "    </tr>\n",
       "  </thead>\n",
       "  <tbody>\n",
       "    <tr>\n",
       "      <th>0</th>\n",
       "      <td>-0.263750</td>\n",
       "      <td>-0.014295</td>\n",
       "      <td>1.149765</td>\n",
       "      <td>0.136582</td>\n",
       "      <td>0.398016</td>\n",
       "      <td>0.850100</td>\n",
       "      <td>2.028252</td>\n",
       "      <td>1.771847</td>\n",
       "      <td>0.884094</td>\n",
       "      <td>0.803410</td>\n",
       "      <td>...</td>\n",
       "      <td>-0.325681</td>\n",
       "      <td>-0.015936</td>\n",
       "      <td>-0.178232</td>\n",
       "      <td>0.091926</td>\n",
       "      <td>-0.120727</td>\n",
       "      <td>-0.305149</td>\n",
       "      <td>-0.221091</td>\n",
       "      <td>-0.715623</td>\n",
       "      <td>-0.561421</td>\n",
       "      <td>bus</td>\n",
       "    </tr>\n",
       "    <tr>\n",
       "      <th>1</th>\n",
       "      <td>0.098467</td>\n",
       "      <td>-1.334234</td>\n",
       "      <td>1.788847</td>\n",
       "      <td>-0.054485</td>\n",
       "      <td>1.273843</td>\n",
       "      <td>-0.497433</td>\n",
       "      <td>1.077276</td>\n",
       "      <td>1.745969</td>\n",
       "      <td>-0.234839</td>\n",
       "      <td>0.731322</td>\n",
       "      <td>...</td>\n",
       "      <td>0.908786</td>\n",
       "      <td>0.528635</td>\n",
       "      <td>0.451380</td>\n",
       "      <td>0.601195</td>\n",
       "      <td>0.567032</td>\n",
       "      <td>0.316984</td>\n",
       "      <td>0.207231</td>\n",
       "      <td>0.103127</td>\n",
       "      <td>0.259936</td>\n",
       "      <td>quietstreet</td>\n",
       "    </tr>\n",
       "    <tr>\n",
       "      <th>2</th>\n",
       "      <td>0.404200</td>\n",
       "      <td>-0.804345</td>\n",
       "      <td>-0.231490</td>\n",
       "      <td>0.401523</td>\n",
       "      <td>-0.025396</td>\n",
       "      <td>-0.414613</td>\n",
       "      <td>0.142179</td>\n",
       "      <td>-0.028487</td>\n",
       "      <td>-0.478219</td>\n",
       "      <td>-0.685566</td>\n",
       "      <td>...</td>\n",
       "      <td>1.780729</td>\n",
       "      <td>2.171094</td>\n",
       "      <td>1.456386</td>\n",
       "      <td>1.274684</td>\n",
       "      <td>1.318548</td>\n",
       "      <td>1.116542</td>\n",
       "      <td>1.785046</td>\n",
       "      <td>1.095505</td>\n",
       "      <td>1.928737</td>\n",
       "      <td>restaurant</td>\n",
       "    </tr>\n",
       "    <tr>\n",
       "      <th>3</th>\n",
       "      <td>0.399300</td>\n",
       "      <td>0.348493</td>\n",
       "      <td>-0.497847</td>\n",
       "      <td>-0.259436</td>\n",
       "      <td>-0.061074</td>\n",
       "      <td>-0.519319</td>\n",
       "      <td>0.145534</td>\n",
       "      <td>-0.263331</td>\n",
       "      <td>0.201231</td>\n",
       "      <td>0.030069</td>\n",
       "      <td>...</td>\n",
       "      <td>-0.577582</td>\n",
       "      <td>-0.644123</td>\n",
       "      <td>-0.750824</td>\n",
       "      <td>-0.478993</td>\n",
       "      <td>-0.440410</td>\n",
       "      <td>-0.474857</td>\n",
       "      <td>-0.416666</td>\n",
       "      <td>-0.312619</td>\n",
       "      <td>-0.658350</td>\n",
       "      <td>busystreet</td>\n",
       "    </tr>\n",
       "    <tr>\n",
       "      <th>4</th>\n",
       "      <td>-0.032688</td>\n",
       "      <td>-1.436713</td>\n",
       "      <td>1.478498</td>\n",
       "      <td>-0.519802</td>\n",
       "      <td>2.948268</td>\n",
       "      <td>0.365212</td>\n",
       "      <td>-0.865947</td>\n",
       "      <td>-0.826244</td>\n",
       "      <td>-1.964569</td>\n",
       "      <td>2.023665</td>\n",
       "      <td>...</td>\n",
       "      <td>1.684340</td>\n",
       "      <td>1.984120</td>\n",
       "      <td>2.184567</td>\n",
       "      <td>2.672278</td>\n",
       "      <td>2.379555</td>\n",
       "      <td>2.125408</td>\n",
       "      <td>2.289126</td>\n",
       "      <td>2.560299</td>\n",
       "      <td>4.026152</td>\n",
       "      <td>bus</td>\n",
       "    </tr>\n",
       "  </tbody>\n",
       "</table>\n",
       "<p>5 rows × 161 columns</p>\n",
       "</div>"
      ],
      "text/plain": [
       "      mean0     mean1     mean2     mean3     mean4     mean5     mean6  \\\n",
       "0 -0.263750 -0.014295  1.149765  0.136582  0.398016  0.850100  2.028252   \n",
       "1  0.098467 -1.334234  1.788847 -0.054485  1.273843 -0.497433  1.077276   \n",
       "2  0.404200 -0.804345 -0.231490  0.401523 -0.025396 -0.414613  0.142179   \n",
       "3  0.399300  0.348493 -0.497847 -0.259436 -0.061074 -0.519319  0.145534   \n",
       "4 -0.032688 -1.436713  1.478498 -0.519802  2.948268  0.365212 -0.865947   \n",
       "\n",
       "      mean7     mean8     mean9     ...       var_diff11  var_diff12  \\\n",
       "0  1.771847  0.884094  0.803410     ...        -0.325681   -0.015936   \n",
       "1  1.745969 -0.234839  0.731322     ...         0.908786    0.528635   \n",
       "2 -0.028487 -0.478219 -0.685566     ...         1.780729    2.171094   \n",
       "3 -0.263331  0.201231  0.030069     ...        -0.577582   -0.644123   \n",
       "4 -0.826244 -1.964569  2.023665     ...         1.684340    1.984120   \n",
       "\n",
       "   var_diff13  var_diff14  var_diff15  var_diff16  var_diff17  var_diff18  \\\n",
       "0   -0.178232    0.091926   -0.120727   -0.305149   -0.221091   -0.715623   \n",
       "1    0.451380    0.601195    0.567032    0.316984    0.207231    0.103127   \n",
       "2    1.456386    1.274684    1.318548    1.116542    1.785046    1.095505   \n",
       "3   -0.750824   -0.478993   -0.440410   -0.474857   -0.416666   -0.312619   \n",
       "4    2.184567    2.672278    2.379555    2.125408    2.289126    2.560299   \n",
       "\n",
       "   var_diff19       scenes  \n",
       "0   -0.561421          bus  \n",
       "1    0.259936  quietstreet  \n",
       "2    1.928737   restaurant  \n",
       "3   -0.658350   busystreet  \n",
       "4    4.026152          bus  \n",
       "\n",
       "[5 rows x 161 columns]"
      ]
     },
     "execution_count": 8,
     "metadata": {},
     "output_type": "execute_result"
    }
   ],
   "source": [
    "# loading test dataset \n",
    "\n",
    "test = pd.read_csv('Data1/Data1_validation.csv')\n",
    "\n",
    "test.head()"
   ]
  },
  {
   "cell_type": "code",
   "execution_count": 9,
   "metadata": {
    "collapsed": false
   },
   "outputs": [
    {
     "data": {
      "text/html": [
       "<div>\n",
       "<table border=\"1\" class=\"dataframe\">\n",
       "  <thead>\n",
       "    <tr style=\"text-align: right;\">\n",
       "      <th></th>\n",
       "      <th>mean0</th>\n",
       "      <th>mean1</th>\n",
       "      <th>mean2</th>\n",
       "      <th>mean3</th>\n",
       "      <th>mean4</th>\n",
       "      <th>mean5</th>\n",
       "      <th>mean6</th>\n",
       "      <th>mean7</th>\n",
       "      <th>mean8</th>\n",
       "      <th>mean9</th>\n",
       "    </tr>\n",
       "  </thead>\n",
       "  <tbody>\n",
       "    <tr>\n",
       "      <th>0</th>\n",
       "      <td>-0.263750</td>\n",
       "      <td>-0.014295</td>\n",
       "      <td>1.149765</td>\n",
       "      <td>0.136582</td>\n",
       "      <td>0.398016</td>\n",
       "      <td>0.850100</td>\n",
       "      <td>2.028252</td>\n",
       "      <td>1.771847</td>\n",
       "      <td>0.884094</td>\n",
       "      <td>0.803410</td>\n",
       "    </tr>\n",
       "    <tr>\n",
       "      <th>1</th>\n",
       "      <td>0.098467</td>\n",
       "      <td>-1.334234</td>\n",
       "      <td>1.788847</td>\n",
       "      <td>-0.054485</td>\n",
       "      <td>1.273843</td>\n",
       "      <td>-0.497433</td>\n",
       "      <td>1.077276</td>\n",
       "      <td>1.745969</td>\n",
       "      <td>-0.234839</td>\n",
       "      <td>0.731322</td>\n",
       "    </tr>\n",
       "    <tr>\n",
       "      <th>2</th>\n",
       "      <td>0.404200</td>\n",
       "      <td>-0.804345</td>\n",
       "      <td>-0.231490</td>\n",
       "      <td>0.401523</td>\n",
       "      <td>-0.025396</td>\n",
       "      <td>-0.414613</td>\n",
       "      <td>0.142179</td>\n",
       "      <td>-0.028487</td>\n",
       "      <td>-0.478219</td>\n",
       "      <td>-0.685566</td>\n",
       "    </tr>\n",
       "    <tr>\n",
       "      <th>3</th>\n",
       "      <td>0.399300</td>\n",
       "      <td>0.348493</td>\n",
       "      <td>-0.497847</td>\n",
       "      <td>-0.259436</td>\n",
       "      <td>-0.061074</td>\n",
       "      <td>-0.519319</td>\n",
       "      <td>0.145534</td>\n",
       "      <td>-0.263331</td>\n",
       "      <td>0.201231</td>\n",
       "      <td>0.030069</td>\n",
       "    </tr>\n",
       "    <tr>\n",
       "      <th>4</th>\n",
       "      <td>-0.032688</td>\n",
       "      <td>-1.436713</td>\n",
       "      <td>1.478498</td>\n",
       "      <td>-0.519802</td>\n",
       "      <td>2.948268</td>\n",
       "      <td>0.365212</td>\n",
       "      <td>-0.865947</td>\n",
       "      <td>-0.826244</td>\n",
       "      <td>-1.964569</td>\n",
       "      <td>2.023665</td>\n",
       "    </tr>\n",
       "  </tbody>\n",
       "</table>\n",
       "</div>"
      ],
      "text/plain": [
       "      mean0     mean1     mean2     mean3     mean4     mean5     mean6  \\\n",
       "0 -0.263750 -0.014295  1.149765  0.136582  0.398016  0.850100  2.028252   \n",
       "1  0.098467 -1.334234  1.788847 -0.054485  1.273843 -0.497433  1.077276   \n",
       "2  0.404200 -0.804345 -0.231490  0.401523 -0.025396 -0.414613  0.142179   \n",
       "3  0.399300  0.348493 -0.497847 -0.259436 -0.061074 -0.519319  0.145534   \n",
       "4 -0.032688 -1.436713  1.478498 -0.519802  2.948268  0.365212 -0.865947   \n",
       "\n",
       "      mean7     mean8     mean9  \n",
       "0  1.771847  0.884094  0.803410  \n",
       "1  1.745969 -0.234839  0.731322  \n",
       "2 -0.028487 -0.478219 -0.685566  \n",
       "3 -0.263331  0.201231  0.030069  \n",
       "4 -0.826244 -1.964569  2.023665  "
      ]
     },
     "execution_count": 9,
     "metadata": {},
     "output_type": "execute_result"
    }
   ],
   "source": [
    "#Splitting to take the first 10 features only\n",
    "testSet = test.iloc[:,:10]\n",
    "testSet.head()"
   ]
  },
  {
   "cell_type": "code",
   "execution_count": 10,
   "metadata": {
    "collapsed": false
   },
   "outputs": [
    {
     "data": {
      "text/plain": [
       "0             bus\n",
       "1     quietstreet\n",
       "2      restaurant\n",
       "3      busystreet\n",
       "4             bus\n",
       "5     tubestation\n",
       "6             bus\n",
       "7       train-ter\n",
       "8      busystreet\n",
       "9     quietstreet\n",
       "10         market\n",
       "11     busystreet\n",
       "12      train-ter\n",
       "13            bus\n",
       "14    tubestation\n",
       "Name: scenes, dtype: object"
      ]
     },
     "execution_count": 10,
     "metadata": {},
     "output_type": "execute_result"
    }
   ],
   "source": [
    "# Getting the corresponding Y scenes(text)\n",
    "\n",
    "Y_labelsT = test.scenes\n",
    "Y_labelsT[:15]"
   ]
  },
  {
   "cell_type": "code",
   "execution_count": 11,
   "metadata": {
    "collapsed": false
   },
   "outputs": [
    {
     "name": "stderr",
     "output_type": "stream",
     "text": [
      "C:\\Users\\Maria\\Anaconda2\\lib\\site-packages\\ipykernel\\__main__.py:9: SettingWithCopyWarning: \n",
      "A value is trying to be set on a copy of a slice from a DataFrame\n",
      "\n",
      "See the caveats in the documentation: http://pandas.pydata.org/pandas-docs/stable/indexing.html#indexing-view-versus-copy\n"
     ]
    },
    {
     "name": "stdout",
     "output_type": "stream",
     "text": [
      "291\n"
     ]
    }
   ],
   "source": [
    "#Creating the labels based on what we have defined\n",
    "\n",
    "Y_test = Y_labelsT\n",
    "\n",
    "#Calling the function\n",
    "manageLabels(Y_labelsT, Y_test)\n",
    "\n",
    "#converting type of new series to int\n",
    "Y_test = Y_test.astype('int64')    \n",
    "print len(Y_test)"
   ]
  },
  {
   "cell_type": "markdown",
   "metadata": {},
   "source": [
    "** NAIVE BAYES TEST #1 **"
   ]
  },
  {
   "cell_type": "code",
   "execution_count": 12,
   "metadata": {
    "collapsed": false
   },
   "outputs": [
    {
     "name": "stdout",
     "output_type": "stream",
     "text": [
      "291\n"
     ]
    }
   ],
   "source": [
    "gnb=GaussianNB()\n",
    "y_pred=gnb.fit(trainSet, Y_train).predict(testSet)\n",
    "\n",
    "print len(y_pred)"
   ]
  },
  {
   "cell_type": "code",
   "execution_count": 13,
   "metadata": {
    "collapsed": false
   },
   "outputs": [
    {
     "data": {
      "text/plain": [
       "0.68384879725085912"
      ]
     },
     "execution_count": 13,
     "metadata": {},
     "output_type": "execute_result"
    }
   ],
   "source": [
    "1.0*(y_pred==Y_test).sum()/len(y_pred)\n"
   ]
  },
  {
   "cell_type": "markdown",
   "metadata": {},
   "source": [
    "## DATASET #2 (Mixed data) ##"
   ]
  },
  {
   "cell_type": "markdown",
   "metadata": {},
   "source": [
    "** TRAINING DATA **"
   ]
  },
  {
   "cell_type": "code",
   "execution_count": 14,
   "metadata": {
    "collapsed": false
   },
   "outputs": [
    {
     "data": {
      "text/plain": [
       "(794, 161)"
      ]
     },
     "execution_count": 14,
     "metadata": {},
     "output_type": "execute_result"
    }
   ],
   "source": [
    "# loading training dataset \n",
    "\n",
    "train2 = pd.read_csv('Data2/Data2_train.csv', header=0, skiprows=-64)\n",
    "\n",
    "#train2 = train[:265]\n",
    "\n",
    "#train.columns\n",
    "#train2.head()\n",
    "train2.shape"
   ]
  },
  {
   "cell_type": "code",
   "execution_count": 15,
   "metadata": {
    "collapsed": false
   },
   "outputs": [
    {
     "data": {
      "text/html": [
       "<div>\n",
       "<table border=\"1\" class=\"dataframe\">\n",
       "  <thead>\n",
       "    <tr style=\"text-align: right;\">\n",
       "      <th></th>\n",
       "      <th>mean0</th>\n",
       "      <th>mean1</th>\n",
       "      <th>mean2</th>\n",
       "      <th>mean3</th>\n",
       "      <th>mean4</th>\n",
       "      <th>mean5</th>\n",
       "      <th>mean6</th>\n",
       "      <th>mean7</th>\n",
       "      <th>mean8</th>\n",
       "      <th>mean9</th>\n",
       "    </tr>\n",
       "  </thead>\n",
       "  <tbody>\n",
       "    <tr>\n",
       "      <th>0</th>\n",
       "      <td>0.093323</td>\n",
       "      <td>-0.399723</td>\n",
       "      <td>0.783561</td>\n",
       "      <td>-2.520351</td>\n",
       "      <td>2.564316</td>\n",
       "      <td>-0.604616</td>\n",
       "      <td>1.020544</td>\n",
       "      <td>1.818084</td>\n",
       "      <td>-2.152912</td>\n",
       "      <td>1.866948</td>\n",
       "    </tr>\n",
       "    <tr>\n",
       "      <th>1</th>\n",
       "      <td>0.076053</td>\n",
       "      <td>1.165681</td>\n",
       "      <td>0.960745</td>\n",
       "      <td>-1.856342</td>\n",
       "      <td>0.366469</td>\n",
       "      <td>1.074824</td>\n",
       "      <td>0.338721</td>\n",
       "      <td>1.890659</td>\n",
       "      <td>3.694118</td>\n",
       "      <td>2.813581</td>\n",
       "    </tr>\n",
       "    <tr>\n",
       "      <th>2</th>\n",
       "      <td>0.855206</td>\n",
       "      <td>1.212459</td>\n",
       "      <td>-0.488913</td>\n",
       "      <td>0.914367</td>\n",
       "      <td>-0.056152</td>\n",
       "      <td>-0.089688</td>\n",
       "      <td>1.160520</td>\n",
       "      <td>0.783487</td>\n",
       "      <td>0.425175</td>\n",
       "      <td>-0.174028</td>\n",
       "    </tr>\n",
       "    <tr>\n",
       "      <th>3</th>\n",
       "      <td>0.347927</td>\n",
       "      <td>-1.241400</td>\n",
       "      <td>-0.085663</td>\n",
       "      <td>1.107282</td>\n",
       "      <td>0.342155</td>\n",
       "      <td>-0.151280</td>\n",
       "      <td>-0.556604</td>\n",
       "      <td>0.207628</td>\n",
       "      <td>-0.366518</td>\n",
       "      <td>-0.758259</td>\n",
       "    </tr>\n",
       "    <tr>\n",
       "      <th>4</th>\n",
       "      <td>0.752063</td>\n",
       "      <td>-1.192575</td>\n",
       "      <td>-0.296607</td>\n",
       "      <td>-0.540139</td>\n",
       "      <td>0.113057</td>\n",
       "      <td>-1.612495</td>\n",
       "      <td>-0.691072</td>\n",
       "      <td>-0.810711</td>\n",
       "      <td>-1.709526</td>\n",
       "      <td>-0.551167</td>\n",
       "    </tr>\n",
       "  </tbody>\n",
       "</table>\n",
       "</div>"
      ],
      "text/plain": [
       "      mean0     mean1     mean2     mean3     mean4     mean5     mean6  \\\n",
       "0  0.093323 -0.399723  0.783561 -2.520351  2.564316 -0.604616  1.020544   \n",
       "1  0.076053  1.165681  0.960745 -1.856342  0.366469  1.074824  0.338721   \n",
       "2  0.855206  1.212459 -0.488913  0.914367 -0.056152 -0.089688  1.160520   \n",
       "3  0.347927 -1.241400 -0.085663  1.107282  0.342155 -0.151280 -0.556604   \n",
       "4  0.752063 -1.192575 -0.296607 -0.540139  0.113057 -1.612495 -0.691072   \n",
       "\n",
       "      mean7     mean8     mean9  \n",
       "0  1.818084 -2.152912  1.866948  \n",
       "1  1.890659  3.694118  2.813581  \n",
       "2  0.783487  0.425175 -0.174028  \n",
       "3  0.207628 -0.366518 -0.758259  \n",
       "4 -0.810711 -1.709526 -0.551167  "
      ]
     },
     "execution_count": 15,
     "metadata": {},
     "output_type": "execute_result"
    }
   ],
   "source": [
    "trainSet2 = train2.iloc[:,:10]\n",
    "trainSet2.head()"
   ]
  },
  {
   "cell_type": "code",
   "execution_count": 16,
   "metadata": {
    "collapsed": false
   },
   "outputs": [
    {
     "data": {
      "text/plain": [
       "0       train-ter\n",
       "1       train-ter\n",
       "2      busystreet\n",
       "3      restaurant\n",
       "4          market\n",
       "5      busystreet\n",
       "6          market\n",
       "7       train-ter\n",
       "8          market\n",
       "9      restaurant\n",
       "10     restaurant\n",
       "11      train-ter\n",
       "12     busystreet\n",
       "13    quietstreet\n",
       "14            bus\n",
       "Name: scenes, dtype: object"
      ]
     },
     "execution_count": 16,
     "metadata": {},
     "output_type": "execute_result"
    }
   ],
   "source": [
    "# Getting the corresponding Y scenes(text)\n",
    "\n",
    "Y_labels2 = train2.scenes\n",
    "Y_labels2[:15]"
   ]
  },
  {
   "cell_type": "code",
   "execution_count": 17,
   "metadata": {
    "collapsed": false
   },
   "outputs": [
    {
     "name": "stderr",
     "output_type": "stream",
     "text": [
      "C:\\Users\\Maria\\Anaconda2\\lib\\site-packages\\ipykernel\\__main__.py:9: SettingWithCopyWarning: \n",
      "A value is trying to be set on a copy of a slice from a DataFrame\n",
      "\n",
      "See the caveats in the documentation: http://pandas.pydata.org/pandas-docs/stable/indexing.html#indexing-view-versus-copy\n"
     ]
    },
    {
     "name": "stdout",
     "output_type": "stream",
     "text": [
      "0     6\n",
      "1     6\n",
      "2     3\n",
      "3     4\n",
      "4     5\n",
      "5     3\n",
      "6     5\n",
      "7     6\n",
      "8     5\n",
      "9     4\n",
      "10    4\n",
      "11    6\n",
      "12    3\n",
      "13    2\n",
      "14    6\n",
      "15    6\n",
      "16    1\n",
      "17    4\n",
      "18    6\n",
      "19    1\n",
      "Name: scenes, dtype: int64\n"
     ]
    }
   ],
   "source": [
    "#Creating the labels based on what we have defined\n",
    "\n",
    "Y_train2 = Y_labels2\n",
    "\n",
    "#Calling the function\n",
    "manageLabels(Y_labels2, Y_train2)\n",
    "\n",
    "#converting type of new series to int\n",
    "Y_train2 = Y_train2.astype('int64')    \n",
    "print Y_train2[:20]"
   ]
  },
  {
   "cell_type": "markdown",
   "metadata": {},
   "source": [
    "**VALIDATION DATA**"
   ]
  },
  {
   "cell_type": "code",
   "execution_count": 18,
   "metadata": {
    "collapsed": false
   },
   "outputs": [
    {
     "data": {
      "text/plain": [
       "(265, 161)"
      ]
     },
     "execution_count": 18,
     "metadata": {},
     "output_type": "execute_result"
    }
   ],
   "source": [
    "# loading test dataset \n",
    "\n",
    "test2 = pd.read_csv('Data2/Data2_validation.csv')\n",
    "\n",
    "test2 = test2[:265]\n",
    "\n",
    "test2.head()\n",
    "test2.shape"
   ]
  },
  {
   "cell_type": "code",
   "execution_count": 19,
   "metadata": {
    "collapsed": false
   },
   "outputs": [],
   "source": [
    "#Splitting to take the first 10 features only\n",
    "testSet2 = test.iloc[:,:10]\n",
    "testSet2.head()\n",
    "\n",
    "testSet2 = testSet2[:265]"
   ]
  },
  {
   "cell_type": "code",
   "execution_count": 20,
   "metadata": {
    "collapsed": false
   },
   "outputs": [
    {
     "data": {
      "text/plain": [
       "0     quietstreet\n",
       "1             bus\n",
       "2      busystreet\n",
       "3          office\n",
       "4      restaurant\n",
       "5      restaurant\n",
       "6       train-ter\n",
       "7      busystreet\n",
       "8     quietstreet\n",
       "9      busystreet\n",
       "10         market\n",
       "11    quietstreet\n",
       "12            bus\n",
       "13     restaurant\n",
       "14    tubestation\n",
       "Name: scenes, dtype: object"
      ]
     },
     "execution_count": 20,
     "metadata": {},
     "output_type": "execute_result"
    }
   ],
   "source": [
    "# getting labels\n",
    "Y_labels2 = test2.scenes\n",
    "Y_labels2[:15]"
   ]
  },
  {
   "cell_type": "code",
   "execution_count": 21,
   "metadata": {
    "collapsed": false
   },
   "outputs": [
    {
     "name": "stderr",
     "output_type": "stream",
     "text": [
      "C:\\Users\\Maria\\Anaconda2\\lib\\site-packages\\ipykernel\\__main__.py:9: SettingWithCopyWarning: \n",
      "A value is trying to be set on a copy of a slice from a DataFrame\n",
      "\n",
      "See the caveats in the documentation: http://pandas.pydata.org/pandas-docs/stable/indexing.html#indexing-view-versus-copy\n"
     ]
    },
    {
     "name": "stdout",
     "output_type": "stream",
     "text": [
      "265\n"
     ]
    }
   ],
   "source": [
    "#Creating the labels based on what we have defined\n",
    "\n",
    "Y_test2 = Y_labels2\n",
    "\n",
    "#Calling the function\n",
    "manageLabels(Y_labels2, Y_test2)\n",
    "\n",
    "#converting type of new series to int\n",
    "#Y_test2 = Y_test2.astype('int64')    \n",
    "print len(Y_test2)"
   ]
  },
  {
   "cell_type": "markdown",
   "metadata": {},
   "source": [
    "**NAIVE BAYES TEST #2 **"
   ]
  },
  {
   "cell_type": "code",
   "execution_count": 25,
   "metadata": {
    "collapsed": false
   },
   "outputs": [
    {
     "data": {
      "text/plain": [
       "265"
      ]
     },
     "execution_count": 25,
     "metadata": {},
     "output_type": "execute_result"
    }
   ],
   "source": [
    "gnb2 = GaussianNB()\n",
    "y_pred2 =gnb2.fit(trainSet2, Y_train2).predict(testSet2)\n",
    "\n",
    "len(y_pred2)"
   ]
  },
  {
   "cell_type": "code",
   "execution_count": 26,
   "metadata": {
    "collapsed": false
   },
   "outputs": [
    {
     "data": {
      "text/plain": [
       "0.21886792452830189"
      ]
     },
     "execution_count": 26,
     "metadata": {},
     "output_type": "execute_result"
    }
   ],
   "source": [
    "1.0*(y_pred2==Y_test2).sum()/len(y_pred2)\n"
   ]
  }
 ],
 "metadata": {
  "kernelspec": {
   "display_name": "Python 2",
   "language": "python",
   "name": "python2"
  },
  "language_info": {
   "codemirror_mode": {
    "name": "ipython",
    "version": 2
   },
   "file_extension": ".py",
   "mimetype": "text/x-python",
   "name": "python",
   "nbconvert_exporter": "python",
   "pygments_lexer": "ipython2",
   "version": "2.7.11"
  }
 },
 "nbformat": 4,
 "nbformat_minor": 0
}
